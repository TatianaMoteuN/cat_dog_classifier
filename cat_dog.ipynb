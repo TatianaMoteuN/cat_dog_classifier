{
 "cells": [
  {
   "cell_type": "code",
   "execution_count": 1,
   "metadata": {},
   "outputs": [],
   "source": [
    "!python3 main.py"
   ]
  },
  {
   "cell_type": "code",
   "execution_count": 2,
   "metadata": {},
   "outputs": [],
   "source": [
    "!python3 model.py"
   ]
  },
  {
   "cell_type": "code",
   "execution_count": 3,
   "metadata": {},
   "outputs": [],
   "source": [
    "!python3 dataset.py"
   ]
  },
  {
   "cell_type": "code",
   "execution_count": 4,
   "metadata": {},
   "outputs": [],
   "source": [
    "from dataset import CatDogDataset\n",
    "from model import CNN\n",
    "from main import train,test\n",
    "\n",
    "\n",
    "import numpy as np # Matrix Operations (Matlab of Python)\n",
    "import pandas as pd # Work with Datasources\n",
    "import matplotlib.pyplot as plt # Drawing Library\n",
    "\n",
    "from PIL import Image\n",
    "\n",
    "import torch # Like a numpy but we could work with GPU by pytorch library\n",
    "import torch.nn as nn # Nural Network Implimented with pytorch\n",
    "import torchvision # A library for work with pretrained model and datasets\n",
    "\n",
    "from torchvision import transforms\n",
    "from torch.utils.data import Dataset\n",
    "from torch.utils.data import DataLoader\n",
    "import torch.nn.functional as F\n",
    "\n",
    "import glob\n",
    "import os"
   ]
  },
  {
   "cell_type": "code",
   "execution_count": 5,
   "metadata": {},
   "outputs": [],
   "source": [
    "image_size = (100, 100)\n",
    "image_row_size = image_size[0] * image_size[1]"
   ]
  },
  {
   "cell_type": "code",
   "execution_count": 6,
   "metadata": {},
   "outputs": [],
   "source": [
    "mean = [0.485, 0.456, 0.406]\n",
    "std  = [0.229, 0.224, 0.225]\n",
    "transform = transforms.Compose([\n",
    "                                transforms.Resize(image_size), \n",
    "                                transforms.Grayscale(),\n",
    "                                transforms.ToTensor(), \n",
    "                                transforms.Lambda(lambda x: x.repeat(3,1,1)),\n",
    "                                transforms.Normalize(mean, std)])\n",
    "\n",
    "\n",
    "#Create Dataset\n",
    "\n",
    "\n",
    "path    = '/home/aims/aims-courses/Deep learning/asign/data/train/'\n",
    "dataset = CatDogDataset(path, transform=transform)\n",
    "\n",
    "path1 = '/home/aims/aims-courses/Deep learning/asign/data/val/'\n",
    "test1 = CatDogDataset(path1, transform=transform)"
   ]
  },
  {
   "cell_type": "code",
   "execution_count": 7,
   "metadata": {},
   "outputs": [],
   "source": [
    "\n",
    "#Create DataLoader\n",
    "shuffle     = True\n",
    "batch_size  = 32\n",
    "num_workers = 0\n",
    "dataloader  = DataLoader(dataset=dataset, \n",
    "                         shuffle=shuffle, \n",
    "                         batch_size=batch_size, \n",
    "                         num_workers=num_workers)\n",
    "\n",
    "#create test_loader\n",
    "shuffle     = True\n",
    "batch_size  = 16\n",
    "num_workers = 0\n",
    "test_loader = DataLoader(dataset=test1, \n",
    "                         shuffle=shuffle, \n",
    "                         batch_size=batch_size, \n",
    "                         num_workers=num_workers)\n",
    "# In[8]:"
   ]
  },
  {
   "cell_type": "code",
   "execution_count": 8,
   "metadata": {},
   "outputs": [],
   "source": [
    "train_loader = dataloader\n"
   ]
  },
  {
   "cell_type": "code",
   "execution_count": 9,
   "metadata": {},
   "outputs": [
    {
     "name": "stdout",
     "output_type": "stream",
     "text": [
      "Number of parameters: 195968\n",
      "Train Epoch: 0 [0/60 (0%)]\tLoss: 0.714865\n",
      "\n",
      "Test set: Average loss: 0.6902, Accuracy: 12/24 (50%)\n",
      "\n"
     ]
    }
   ],
   "source": [
    "import torch.optim as optim\n",
    "# function to count number of parameters\n",
    "def get_n_params(model):\n",
    "    np=0\n",
    "    for p in list(model.parameters()):\n",
    "        np += p.nelement()\n",
    "    return np\n",
    "\n",
    "\n",
    "n_hidden = 8 # number of hidden units\n",
    "input_size  = 100*100  # images are 28x28 pixels\n",
    "output_size = 2  \n",
    "\n",
    "model_fnn = CNN(input_size, n_hidden, output_size)\n",
    "optimizer = optim.SGD(model_fnn.parameters(), lr=0.01, momentum=0.5)\n",
    "print('Number of parameters: {}'.format(get_n_params(model_fnn)))\n",
    "\n",
    "for epoch in range(0, 1):\n",
    "    train(epoch, model_fnn,train_loader,optimizer)\n",
    "    test(model_fnn,test_loader)"
   ]
  },
  {
   "cell_type": "code",
   "execution_count": null,
   "metadata": {},
   "outputs": [],
   "source": []
  }
 ],
 "metadata": {
  "kernelspec": {
   "display_name": "Python 3",
   "language": "python",
   "name": "python3"
  },
  "language_info": {
   "codemirror_mode": {
    "name": "ipython",
    "version": 3
   },
   "file_extension": ".py",
   "mimetype": "text/x-python",
   "name": "python",
   "nbconvert_exporter": "python",
   "pygments_lexer": "ipython3",
   "version": "3.7.3"
  }
 },
 "nbformat": 4,
 "nbformat_minor": 2
}
