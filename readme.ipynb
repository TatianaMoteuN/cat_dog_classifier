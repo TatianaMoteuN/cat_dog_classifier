{
 "cells": [
  {
   "cell_type": "markdown",
   "metadata": {},
   "source": [
    "## Moteu Ngoli Tatiana\n",
    "\n",
    "## Outlines \n",
    "Train a ConvNet using PyTorch on cat dog dataset"
   ]
  },
  {
   "cell_type": "markdown",
   "metadata": {},
   "source": [
    "## Dataset\n",
    "\n",
    "- We first start by import our the necessary libraries such as torch, image, the Nural Network Implimented with pytorch, torchvision(library for work with pretrained model and datasets), transforms, dataset, dataloader, F\n",
    "- We define our image_size and image_row_size\n",
    "- Create our dataset class  that takes as a parameter the len wich return the len of the file, and the getitem wich return the image and the class category"
   ]
  },
  {
   "cell_type": "markdown",
   "metadata": {},
   "source": [
    "## Model\n",
    "\n",
    "Here we use the convolutional network by apply the Relu as an activation function and the softmax"
   ]
  },
  {
   "cell_type": "markdown",
   "metadata": {},
   "source": [
    "## Main\n",
    "\n",
    "- We use a devise string to  seemlessly determine whether GPU is available, falling back to CPU if not\n",
    "- We define our train and test function"
   ]
  },
  {
   "cell_type": "markdown",
   "metadata": {},
   "source": [
    "## Principal File cat_dog\n",
    "\n",
    "- We first start by import our file and their classes\n",
    "- Define the mean, std and transform\n",
    "- Create the dataset\n",
    "- Create the dataloader and test loader\n",
    "- Test our model"
   ]
  },
  {
   "cell_type": "code",
   "execution_count": null,
   "metadata": {},
   "outputs": [],
   "source": []
  }
 ],
 "metadata": {
  "kernelspec": {
   "display_name": "Python 3",
   "language": "python",
   "name": "python3"
  },
  "language_info": {
   "codemirror_mode": {
    "name": "ipython",
    "version": 3
   },
   "file_extension": ".py",
   "mimetype": "text/x-python",
   "name": "python",
   "nbconvert_exporter": "python",
   "pygments_lexer": "ipython3",
   "version": "3.7.3"
  }
 },
 "nbformat": 4,
 "nbformat_minor": 2
}
